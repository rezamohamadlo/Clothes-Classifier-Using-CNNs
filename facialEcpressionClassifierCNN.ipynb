{
  "nbformat": 4,
  "nbformat_minor": 0,
  "metadata": {
    "colab": {
      "provenance": [],
      "gpuType": "T4",
      "authorship_tag": "ABX9TyM/0WezH2tnbRGy/dDU1nej",
      "include_colab_link": true
    },
    "kernelspec": {
      "name": "python3",
      "display_name": "Python 3"
    },
    "language_info": {
      "name": "python"
    },
    "accelerator": "GPU"
  },
  "cells": [
    {
      "cell_type": "markdown",
      "metadata": {
        "id": "view-in-github",
        "colab_type": "text"
      },
      "source": [
        "<a href=\"https://colab.research.google.com/github/rezamohammadloo/Clothes-Classifier-Using-CNNs/blob/main/facialEcpressionClassifierCNN.ipynb\" target=\"_parent\"><img src=\"https://colab.research.google.com/assets/colab-badge.svg\" alt=\"Open In Colab\"/></a>"
      ]
    },
    {
      "cell_type": "code",
      "execution_count": 2,
      "metadata": {
        "id": "gcQLn-UW3Ygk",
        "colab": {
          "base_uri": "https://localhost:8080/"
        },
        "outputId": "1a81e252-849c-4fac-e5af-b5031ab61f0a"
      },
      "outputs": [
        {
          "output_type": "stream",
          "name": "stdout",
          "text": [
            "Mounted at /content/gdrive\n"
          ]
        }
      ],
      "source": [
        "#connecting to google drive to get teh data\n",
        "from google.colab import drive\n",
        "drive.mount('/content/gdrive')"
      ]
    },
    {
      "cell_type": "code",
      "source": [
        "#importing needed pachages\n",
        "import os\n",
        "import zipfile\n",
        "import numpy as np\n",
        "import pandas as pd\n",
        "import seaborn as sns\n",
        "import tensorflow as tf\n",
        "import matplotlib.pyplot as plt\n",
        "from keras.optimizers import RMSprop, Adam\n",
        "from tensorflow.keras.preprocessing.image import ImageDataGenerator"
      ],
      "metadata": {
        "id": "nYNu16Nf3aK2"
      },
      "execution_count": 3,
      "outputs": []
    },
    {
      "cell_type": "code",
      "source": [
        "# Extract the archive\n",
        "zip_ref = zipfile.ZipFile(\"/content/gdrive/MyDrive/archive.zip\", 'r')\n",
        "zip_ref.extractall(\"/content\")\n",
        "zip_ref.close()"
      ],
      "metadata": {
        "id": "Mi9H9w9Z3okY"
      },
      "execution_count": 4,
      "outputs": []
    },
    {
      "cell_type": "code",
      "source": [
        "#main directories\n",
        "train_dir = '/content/train'\n",
        "test_dir  = '/content/test'"
      ],
      "metadata": {
        "id": "LO93QW7hOn9s"
      },
      "execution_count": 5,
      "outputs": []
    },
    {
      "cell_type": "code",
      "source": [
        "#analyzing the data\n",
        "lable_names = os.listdir(train_dir)\n",
        "print(f'class labels:{lable_names}')\n",
        "\n",
        "for i in lable_names:\n",
        "  print(f'\\nnumber of train images in class {i} is: {len(os.listdir(os.path.join(train_dir, i)))}')\n",
        "  print(f'number of test  images in class {i} is: {len(os.listdir(os.path.join(test_dir, i)))}')\n",
        ""
      ],
      "metadata": {
        "colab": {
          "base_uri": "https://localhost:8080/"
        },
        "id": "OcdXJp0nOp_5",
        "outputId": "790a3388-bca1-4965-d219-66a4573bc9cf"
      },
      "execution_count": 9,
      "outputs": [
        {
          "output_type": "stream",
          "name": "stdout",
          "text": [
            "class labels:['surprise', 'angry', 'disgust', 'neutral', 'sad', 'happy', 'fear']\n",
            "\n",
            "number of train images in class surprise is: 3171\n",
            "number of test  images in class surprise is: 831\n",
            "\n",
            "number of train images in class angry is: 3995\n",
            "number of test  images in class angry is: 958\n",
            "\n",
            "number of train images in class disgust is: 436\n",
            "number of test  images in class disgust is: 111\n",
            "\n",
            "number of train images in class neutral is: 4965\n",
            "number of test  images in class neutral is: 1233\n",
            "\n",
            "number of train images in class sad is: 4830\n",
            "number of test  images in class sad is: 1247\n",
            "\n",
            "number of train images in class happy is: 7215\n",
            "number of test  images in class happy is: 1774\n",
            "\n",
            "number of train images in class fear is: 4097\n",
            "number of test  images in class fear is: 1024\n"
          ]
        }
      ]
    },
    {
      "cell_type": "code",
      "source": [
        "\n",
        "dict = {}\n",
        "for i in lable_names:\n",
        "  dict.update(({i:[ len(os.listdir(os.path.join(train_dir, i))) , len(os.listdir(os.path.join(test_dir, i)))]}))\n",
        "\n",
        "df = pd.DataFrame(dict).T\n",
        "df.columns = ['train number', 'test number']\n",
        "\n",
        "plt.figure(figsize = (15,10))\n",
        "df.plot(kind = 'bar' )"
      ],
      "metadata": {
        "colab": {
          "base_uri": "https://localhost:8080/",
          "height": 509
        },
        "id": "M00qwZ9H-mZ5",
        "outputId": "828957a8-1949-460b-d8ae-34ba178e8069"
      },
      "execution_count": null,
      "outputs": [
        {
          "output_type": "execute_result",
          "data": {
            "text/plain": [
              "<Axes: >"
            ]
          },
          "metadata": {},
          "execution_count": 127
        },
        {
          "output_type": "display_data",
          "data": {
            "text/plain": [
              "<Figure size 1500x1000 with 0 Axes>"
            ]
          },
          "metadata": {}
        },
        {
          "output_type": "display_data",
          "data": {
            "text/plain": [
              "<Figure size 640x480 with 1 Axes>"
            ],
            "image/png": "[encoded data removed]"
          },
          "metadata": {}
        }
      ]
    },
    {
      "cell_type": "markdown",
      "source": [
        "**Not so much balanced!**"
      ],
      "metadata": {
        "id": "VFBQhnQ-MY8c"
      }
    },
    {
      "cell_type": "code",
      "source": [
        "model = tf.keras.models.Sequential([\n",
        "    #first conv layer\n",
        "    tf.keras.layers.Conv2D(16, (3,3), activation='relu'),#, input_shape=(48, 48, 1)\n",
        "    tf.keras.layers.BatchNormalization(),\n",
        "    tf.keras.layers.MaxPooling2D(pool_size = (2, 2), strides = (2, 2)),\n",
        "    tf.keras.layers.Dropout(0.1),\n",
        "\n",
        "    #second conv layer\n",
        "    tf.keras.layers.Conv2D(32, (3,3), activation='relu'),\n",
        "    tf.keras.layers.Dropout(0.1),\n",
        "    tf.keras.layers.BatchNormalization(),\n",
        "    tf.keras.layers.MaxPooling2D(pool_size = (2, 2), strides = (2, 2)),\n",
        "\n",
        "    #third conv layer\n",
        "    tf.keras.layers.Conv2D(64, (3,3), activation='relu'),\n",
        "    tf.keras.layers.Dropout(0.1),\n",
        "    tf.keras.layers.BatchNormalization(),\n",
        "    tf.keras.layers.MaxPooling2D(pool_size = (2, 2), strides = (2, 2)),\n",
        "\n",
        "\n",
        "    tf.keras.layers.Flatten(),\n",
        "\n",
        "    tf.keras.layers.Dense(512, activation='relu'),\n",
        "    tf.keras.layers.Dropout(0.2),\n",
        "\n",
        "    tf.keras.layers.Dense(256, activation='relu'),\n",
        "    tf.keras.layers.Dropout(0.2),\n",
        "\n",
        "    tf.keras.layers.Dense(7, activation='softmax')\n",
        "])\n",
        "optimizer = Adam()\n",
        "\n",
        "model.compile(optimizer = optimizer , loss = \"categorical_crossentropy\", metrics=[\"accuracy\"])"
      ],
      "metadata": {
        "id": "QRfBFEDNO1xY"
      },
      "execution_count": 12,
      "outputs": []
    },
    {
      "cell_type": "code",
      "source": [
        "model.summary()"
      ],
      "metadata": {
        "colab": {
          "base_uri": "https://localhost:8080/"
        },
        "id": "sN4JnXfuP-70",
        "outputId": "0a32c825-e9d3-42cb-88db-83e9051352de"
      },
      "execution_count": 11,
      "outputs": [
        {
          "output_type": "stream",
          "name": "stdout",
          "text": [
            "Model: \"sequential\"\n",
            "_________________________________________________________________\n",
            " Layer (type)                Output Shape              Param #   \n",
            "=================================================================\n",
            " conv2d (Conv2D)             (None, 46, 46, 16)        160       \n",
            "                                                                 \n",
            " batch_normalization (Batch  (None, 46, 46, 16)        64        \n",
            " Normalization)                                                  \n",
            "                                                                 \n",
            " max_pooling2d (MaxPooling2  (None, 23, 23, 16)        0         \n",
            " D)                                                              \n",
            "                                                                 \n",
            " dropout (Dropout)           (None, 23, 23, 16)        0         \n",
            "                                                                 \n",
            " conv2d_1 (Conv2D)           (None, 21, 21, 32)        4640      \n",
            "                                                                 \n",
            " dropout_1 (Dropout)         (None, 21, 21, 32)        0         \n",
            "                                                                 \n",
            " batch_normalization_1 (Bat  (None, 21, 21, 32)        128       \n",
            " chNormalization)                                                \n",
            "                                                                 \n",
            " max_pooling2d_1 (MaxPoolin  (None, 10, 10, 32)        0         \n",
            " g2D)                                                            \n",
            "                                                                 \n",
            " conv2d_2 (Conv2D)           (None, 8, 8, 64)          18496     \n",
            "                                                                 \n",
            " dropout_2 (Dropout)         (None, 8, 8, 64)          0         \n",
            "                                                                 \n",
            " batch_normalization_2 (Bat  (None, 8, 8, 64)          256       \n",
            " chNormalization)                                                \n",
            "                                                                 \n",
            " max_pooling2d_2 (MaxPoolin  (None, 4, 4, 64)          0         \n",
            " g2D)                                                            \n",
            "                                                                 \n",
            " flatten (Flatten)           (None, 1024)              0         \n",
            "                                                                 \n",
            " dense (Dense)               (None, 512)               524800    \n",
            "                                                                 \n",
            " dropout_3 (Dropout)         (None, 512)               0         \n",
            "                                                                 \n",
            " dense_1 (Dense)             (None, 256)               131328    \n",
            "                                                                 \n",
            " dropout_4 (Dropout)         (None, 256)               0         \n",
            "                                                                 \n",
            " dense_2 (Dense)             (None, 7)                 1799      \n",
            "                                                                 \n",
            "=================================================================\n",
            "Total params: 681671 (2.60 MB)\n",
            "Trainable params: 681447 (2.60 MB)\n",
            "Non-trainable params: 224 (896.00 Byte)\n",
            "_________________________________________________________________\n"
          ]
        }
      ]
    },
    {
      "cell_type": "code",
      "source": [
        "# All images will be rescaled by 1./255\n",
        "train_datagen = ImageDataGenerator(rescale=1./255)\n",
        "\n",
        "test_datagen  = ImageDataGenerator(rescale=1./255)\n",
        "\n",
        "# Flow training images in batches of 64 using train_datagen generator\n",
        "train_generator = train_datagen.flow_from_directory(\n",
        "        train_dir,  # This is the source directory for training images\n",
        "        target_size=(48, 48),  # All images will be resized to 48x48\n",
        "        batch_size=64,\n",
        "        class_mode='categorical')# Since we use categorical_crossentropy loss, we need binary labels\n",
        "\n",
        "\n",
        "# Flow validation images in batches of 64 using test_datagen generator\n",
        "validation_generator = test_datagen.flow_from_directory(\n",
        "        test_dir,\n",
        "        target_size=(48, 48),\n",
        "        batch_size=64,\n",
        "        class_mode='categorical')"
      ],
      "metadata": {
        "colab": {
          "base_uri": "https://localhost:8080/"
        },
        "id": "LCE5MsXXQCvR",
        "outputId": "2965aee7-11d8-447b-d8d5-e2adc6551ab1"
      },
      "execution_count": 13,
      "outputs": [
        {
          "output_type": "stream",
          "name": "stdout",
          "text": [
            "Found 28709 images belonging to 7 classes.\n",
            "Found 7178 images belonging to 7 classes.\n"
          ]
        }
      ]
    },
    {
      "cell_type": "code",
      "source": [
        "# Constant for epochs\n",
        "EPOCHS = 20\n",
        "\n",
        "# Train the model\n",
        "history = model.fit(\n",
        "      train_generator,\n",
        "      steps_per_epoch = 28709 // 64,  # 28709 images = batch_size(512) * steps\n",
        "      epochs=EPOCHS,\n",
        "      validation_data = validation_generator,\n",
        "      validation_steps = 7178 // 64,  # 7178 images = batch_size(512) * steps\n",
        "      verbose=1,\n",
        "      shuffle = True)"
      ],
      "metadata": {
        "colab": {
          "base_uri": "https://localhost:8080/"
        },
        "id": "LeVQ8FZNQObU",
        "outputId": "44f51c8b-d015-48c2-97f4-378c51e8830a"
      },
      "execution_count": 14,
      "outputs": [
        {
          "output_type": "stream",
          "name": "stdout",
          "text": [
            "Epoch 1/20\n",
            "448/448 [==============================] - 112s 243ms/step - loss: 1.6563 - accuracy: 0.3565 - val_loss: 1.5249 - val_accuracy: 0.4143\n",
            "Epoch 2/20\n",
            "448/448 [==============================] - 100s 223ms/step - loss: 1.4152 - accuracy: 0.4537 - val_loss: 1.4159 - val_accuracy: 0.4561\n",
            "Epoch 3/20\n",
            "448/448 [==============================] - 101s 225ms/step - loss: 1.2994 - accuracy: 0.5031 - val_loss: 1.3562 - val_accuracy: 0.4725\n",
            "Epoch 4/20\n",
            "448/448 [==============================] - 113s 253ms/step - loss: 1.2083 - accuracy: 0.5398 - val_loss: 1.2635 - val_accuracy: 0.5177\n",
            "Epoch 5/20\n",
            "448/448 [==============================] - 110s 245ms/step - loss: 1.1346 - accuracy: 0.5717 - val_loss: 1.2699 - val_accuracy: 0.5173\n",
            "Epoch 6/20\n",
            "448/448 [==============================] - 99s 220ms/step - loss: 1.0608 - accuracy: 0.5940 - val_loss: 1.2501 - val_accuracy: 0.5359\n",
            "Epoch 7/20\n",
            "448/448 [==============================] - 97s 216ms/step - loss: 0.9835 - accuracy: 0.6274 - val_loss: 1.1658 - val_accuracy: 0.5674\n",
            "Epoch 8/20\n",
            "448/448 [==============================] - 97s 217ms/step - loss: 0.9093 - accuracy: 0.6583 - val_loss: 1.2215 - val_accuracy: 0.5442\n",
            "Epoch 9/20\n",
            "448/448 [==============================] - 96s 213ms/step - loss: 0.8387 - accuracy: 0.6870 - val_loss: 1.2065 - val_accuracy: 0.5749\n",
            "Epoch 10/20\n",
            "448/448 [==============================] - 101s 224ms/step - loss: 0.7615 - accuracy: 0.7179 - val_loss: 1.2789 - val_accuracy: 0.5465\n",
            "Epoch 11/20\n",
            "448/448 [==============================] - 98s 218ms/step - loss: 0.7025 - accuracy: 0.7424 - val_loss: 1.2240 - val_accuracy: 0.5760\n",
            "Epoch 12/20\n",
            "448/448 [==============================] - 98s 219ms/step - loss: 0.6447 - accuracy: 0.7595 - val_loss: 1.3013 - val_accuracy: 0.5791\n",
            "Epoch 13/20\n",
            "448/448 [==============================] - 102s 227ms/step - loss: 0.5858 - accuracy: 0.7829 - val_loss: 1.3179 - val_accuracy: 0.5836\n",
            "Epoch 14/20\n",
            "448/448 [==============================] - 95s 212ms/step - loss: 0.5423 - accuracy: 0.8015 - val_loss: 1.3855 - val_accuracy: 0.5805\n",
            "Epoch 15/20\n",
            "448/448 [==============================] - 102s 228ms/step - loss: 0.5009 - accuracy: 0.8159 - val_loss: 1.3756 - val_accuracy: 0.5685\n",
            "Epoch 16/20\n",
            "448/448 [==============================] - 101s 226ms/step - loss: 0.4612 - accuracy: 0.8300 - val_loss: 1.4062 - val_accuracy: 0.5770\n",
            "Epoch 17/20\n",
            "448/448 [==============================] - 101s 226ms/step - loss: 0.4327 - accuracy: 0.8435 - val_loss: 1.5140 - val_accuracy: 0.5830\n",
            "Epoch 18/20\n",
            "448/448 [==============================] - 95s 212ms/step - loss: 0.4074 - accuracy: 0.8527 - val_loss: 1.5105 - val_accuracy: 0.5785\n",
            "Epoch 19/20\n",
            "448/448 [==============================] - 96s 215ms/step - loss: 0.3929 - accuracy: 0.8572 - val_loss: 1.5416 - val_accuracy: 0.5851\n",
            "Epoch 20/20\n",
            "448/448 [==============================] - 109s 243ms/step - loss: 0.3769 - accuracy: 0.8656 - val_loss: 1.5074 - val_accuracy: 0.5912\n"
          ]
        }
      ]
    },
    {
      "cell_type": "code",
      "source": [
        "#plotting acc and loss curves to get a beeter understanding of our network's performance\n",
        "plt.subplots(figsize=(10, 5))\n",
        "\n",
        "plt.subplot(1, 2, 1)\n",
        "plt.plot(history.history['accuracy'], color='b', label=\"training accuracy\")\n",
        "plt.plot(history.history['val_accuracy'], color='r', label=\"validation accuracy\")\n",
        "plt.legend()\n",
        "\n",
        "plt.subplot(1, 2, 2)\n",
        "plt.plot(history.history['loss'], color='b', label=\"training loss\")\n",
        "plt.plot(history.history['val_loss'], color='r', label=\"validation_loss\")\n",
        "plt.legend()"
      ],
      "metadata": {
        "colab": {
          "base_uri": "https://localhost:8080/",
          "height": 521
        },
        "id": "XwfuVPsEQR5z",
        "outputId": "ec0b2d8d-dc86-42ed-f678-6b4218d9031e"
      },
      "execution_count": 15,
      "outputs": [
        {
          "output_type": "stream",
          "name": "stderr",
          "text": [
            "<ipython-input-15-25fe6731c02a>:4: MatplotlibDeprecationWarning: Auto-removal of overlapping axes is deprecated since 3.6 and will be removed two minor releases later; explicitly call ax.remove() as needed.\n",
            "  plt.subplot(1, 2, 1)\n"
          ]
        },
        {
          "output_type": "execute_result",
          "data": {
            "text/plain": [
              "<matplotlib.legend.Legend at 0x793699f05f00>"
            ]
          },
          "metadata": {},
          "execution_count": 15
        },
        {
          "output_type": "display_data",
          "data": {
            "text/plain": [
              "<Figure size 1000x500 with 2 Axes>"
            ],
            "image/png": "[encoded data removed]"
          },
          "metadata": {}
        }
      ]
    },
    {
      "cell_type": "markdown",
      "source": [
        "Obvious overfitting..."
      ],
      "metadata": {
        "id": "TPa3MHzHNB7q"
      }
    },
    {
      "cell_type": "code",
      "source": [
        "#"
      ],
      "metadata": {
        "id": "EjC8Hfv_Wvim"
      },
      "execution_count": 16,
      "outputs": []
    }
  ]
}