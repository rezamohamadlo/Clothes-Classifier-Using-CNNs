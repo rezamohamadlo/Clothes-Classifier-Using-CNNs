{
  "nbformat": 4,
  "nbformat_minor": 0,
  "metadata": {
    "colab": {
      "provenance": [],
      "authorship_tag": "ABX9TyPaIwb7b/tpja6Jr0upVV4m",
      "include_colab_link": true
    },
    "kernelspec": {
      "name": "python3",
      "display_name": "Python 3"
    },
    "language_info": {
      "name": "python"
    }
  },
  "cells": [
    {
      "cell_type": "markdown",
      "metadata": {
        "id": "view-in-github",
        "colab_type": "text"
      },
      "source": [
        "<a href=\"https://colab.research.google.com/github/rezamohammadloo/Clothes-Classifier-Using-CNNs/blob/main/Clothes_classification_Using_CNNs.ipynb\" target=\"_parent\"><img src=\"https://colab.research.google.com/assets/colab-badge.svg\" alt=\"Open In Colab\"/></a>"
      ]
    },
    {
      "cell_type": "code",
      "execution_count": null,
      "metadata": {
        "id": "Jaz3r3n52DJK"
      },
      "outputs": [],
      "source": [
        "import tensorflow as tf\n",
        "\n",
        "fmnist=tf.keras.datasets.fashion_mnist\n",
        "(training_images, training_lables), (test_images, test_lables) = fmnist.load_data()"
      ]
    },
    {
      "cell_type": "code",
      "source": [
        "training_images, testing_images= training_images / 255.0, test_images/ 255.0"
      ],
      "metadata": {
        "id": "pzUsZOIR2kqD"
      },
      "execution_count": null,
      "outputs": []
    },
    {
      "cell_type": "code",
      "source": [
        "model = tf.keras.models.Sequential([\n",
        "    tf.keras.layers.Conv2D(32, (3,3), activation=tf.nn.relu, input_shape= (28, 28, 1)),#'relu'\n",
        "    tf.keras.layers.MaxPooling2D(2,2),\n",
        "    tf.keras.layers.Conv2D(32, (3,3), activation=tf.nn.relu),\n",
        "    tf.keras.layers.MaxPooling2D(2,2),\n",
        "\n",
        "    tf.keras.layers.Flatten(),\n",
        "    tf.keras.layers.Dense(128, activation='relu'),\n",
        "    tf.keras.layers.Dense(10, activation='softmax')\n",
        "])\n",
        "\n",
        "#model.summary()\n",
        "\n",
        "model.compile(optimizer='adam', loss='sparse_categorical_crossentropy', metrics=['accuracy'])\n",
        "\n",
        "model.fit(training_images, training_lables, epochs=5)\n",
        "\n",
        "test_lost = model.evaluate(test_images, test_lables)"
      ],
      "metadata": {
        "colab": {
          "base_uri": "https://localhost:8080/"
        },
        "id": "YM_sG8Ya3FpD",
        "outputId": "fc0aae1b-6675-46f8-ccec-7eff341539ed"
      },
      "execution_count": null,
      "outputs": [
        {
          "output_type": "stream",
          "name": "stdout",
          "text": [
            "Epoch 1/5\n",
            "1875/1875 [==============================] - 53s 27ms/step - loss: 0.4546 - accuracy: 0.8361\n",
            "Epoch 2/5\n",
            "1875/1875 [==============================] - 48s 26ms/step - loss: 0.3104 - accuracy: 0.8849\n",
            "Epoch 3/5\n",
            "1875/1875 [==============================] - 49s 26ms/step - loss: 0.2692 - accuracy: 0.9011\n",
            "Epoch 4/5\n",
            "1875/1875 [==============================] - 46s 24ms/step - loss: 0.2397 - accuracy: 0.9119\n",
            "Epoch 5/5\n",
            "1875/1875 [==============================] - 45s 24ms/step - loss: 0.2176 - accuracy: 0.9192\n",
            "313/313 [==============================] - 3s 9ms/step - loss: 65.4259 - accuracy: 0.8087\n"
          ]
        }
      ]
    },
    {
      "cell_type": "code",
      "source": [],
      "metadata": {
        "id": "hga0qSrw5RsA"
      },
      "execution_count": null,
      "outputs": []
    }
  ]
}